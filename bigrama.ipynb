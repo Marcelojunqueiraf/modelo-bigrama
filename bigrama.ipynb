{
 "cells": [
  {
   "cell_type": "markdown",
   "metadata": {},
   "source": [
    "# Usando o encoder do trabalho 1"
   ]
  },
  {
   "cell_type": "code",
   "execution_count": 66,
   "metadata": {},
   "outputs": [],
   "source": [
    "import pickle\n",
    "from bigrama import genProbabilities\n",
    "\n",
    "vocab = None\n",
    "with open('vocab.pkl', 'rb') as f:\n",
    "    vocab = pickle.load(f)\n",
    "merges = None\n",
    "with open('merges.pkl', 'rb') as f:\n",
    "    merges = pickle.load(f)\n",
    "    \n",
    "tokens = None\n",
    "with open('trainTokens.pkl', 'rb') as f:\n",
    "    tokens = pickle.load(f)\n",
    "\n",
    "probablilities = genProbabilities(tokens)"
   ]
  },
  {
   "cell_type": "code",
   "execution_count": 67,
   "metadata": {},
   "outputs": [
    {
     "name": "stdout",
     "output_type": "stream",
     "text": [
      "Perplexity with bigram model\n",
      "999997.7987440734\n"
     ]
    }
   ],
   "source": [
    "from bigrama import calculatePerplexity\n",
    "\n",
    "testTokens = None\n",
    "with open('testTokens.pkl', 'rb') as f:\n",
    "    testTokens = pickle.load(f)\n",
    "    \n",
    "print(\"Perplexity with bigram model\")\n",
    "print(calculatePerplexity(testTokens, probablilities))"
   ]
  },
  {
   "cell_type": "code",
   "execution_count": 63,
   "metadata": {},
   "outputs": [],
   "source": [
    "from bigrama import predict\n",
    "from tokenizer import encode, decode\n",
    "\n",
    "def predictNext15Tokens(text, probabilities):\n",
    "    tokens = encode(text, merges)\n",
    "\n",
    "    for _ in range(15):\n",
    "        next_token = predict(tokens[-1], probabilities)\n",
    "        if next_token == None:\n",
    "            break\n",
    "        tokens.append(next_token)\n",
    "    return decode(tokens, vocab)"
   ]
  },
  {
   "cell_type": "code",
   "execution_count": 64,
   "metadata": {},
   "outputs": [
    {
     "name": "stdout",
     "output_type": "stream",
     "text": [
      "O cachorrou mudel que são os em de sacancoster\n",
      "A casaéros conquargumento Muras defat\n",
      "O gatodos Nagrinferentiorrima e pico e \n",
      "A ruausa 3 junir à subero 1 — M\n",
      "O carrocarace de cresentados na propode ser figem \n",
      "Compreiada Aará das as corra de já róvel\n"
     ]
    }
   ],
   "source": [
    "# Testes de geração\n",
    "\n",
    "for text in [\n",
    "    \"O cachorro\",\n",
    "    \"A casa\",\n",
    "    \"O gato\",\n",
    "    \"A rua\",\n",
    "    \"O carro\",\n",
    "    \"Comprei\"\n",
    "]:\n",
    "    print(predictNext15Tokens(text, probablilities))"
   ]
  },
  {
   "cell_type": "markdown",
   "metadata": {},
   "source": [
    "# Usando tiktoken"
   ]
  },
  {
   "cell_type": "code",
   "execution_count": 68,
   "metadata": {},
   "outputs": [
    {
     "name": "stdout",
     "output_type": "stream",
     "text": [
      "Train tokens len:  17658972\n",
      "Test tokens len:  3983664\n",
      "proportion train/test:  4.432846746111117\n"
     ]
    }
   ],
   "source": [
    "import tiktoken\n",
    "import os\n",
    "import json\n",
    "\n",
    "encoding = tiktoken.get_encoding(\"cl100k_base\")\n",
    "\n",
    "n_arquivos = 8000\n",
    "\n",
    "directory = 'corpus'\n",
    "trainTokens = []\n",
    "testTokens = []\n",
    "\n",
    "files = os.listdir(directory)\n",
    "\n",
    "for i, fileName in enumerate(files):\n",
    "    if fileName.endswith('.json'):\n",
    "        with open(os.path.join(directory, fileName), 'r') as json_file:\n",
    "            data = json.load(json_file)\n",
    "            encoded_text = encoding.encode(\"\\n\" + data['text'] + \"\\n\")\n",
    "            if i <= n_arquivos:\n",
    "                trainTokens += encoded_text\n",
    "            else:\n",
    "                testTokens += encoded_text\n",
    "\n",
    "print(\"Train tokens len: \", len(trainTokens))\n",
    "print(\"Test tokens len: \", len(testTokens))\n",
    "print(\"proportion train/test: \", len(trainTokens)/len(testTokens))"
   ]
  },
  {
   "cell_type": "code",
   "execution_count": 69,
   "metadata": {},
   "outputs": [],
   "source": [
    "tiktokenProbablilities = genProbabilities(trainTokens)"
   ]
  },
  {
   "cell_type": "code",
   "execution_count": 70,
   "metadata": {},
   "outputs": [
    {
     "name": "stdout",
     "output_type": "stream",
     "text": [
      "Perplexity with bigram model\n",
      "999996.5306702302\n"
     ]
    }
   ],
   "source": [
    "from bigrama import calculatePerplexity\n",
    "\n",
    "print(\"Perplexity with bigram model\")\n",
    "print(calculatePerplexity(testTokens, tiktokenProbablilities))"
   ]
  },
  {
   "cell_type": "code",
   "execution_count": 57,
   "metadata": {},
   "outputs": [],
   "source": [
    "from bigrama import predict\n",
    "\n",
    "def predictNext15Tokens(text, probabilities):\n",
    "    tokens = encoding.encode(text)\n",
    "\n",
    "    for _ in range(15):\n",
    "        next_token = predict(tokens[-1], probabilities)\n",
    "        if next_token == None:\n",
    "            break\n",
    "        tokens.append(next_token)\n",
    "    return encoding.decode(tokens)"
   ]
  },
  {
   "cell_type": "code",
   "execution_count": 60,
   "metadata": {},
   "outputs": [
    {
     "name": "stdout",
     "output_type": "stream",
     "text": [
      "O cachorro(ofertaças-feiras do Cômen\". Isabela na construção\n",
      "A casa de acordo comuna italiana da fermentativos, a o Krenaturada\n",
      "O gato = https://www.mg eles tenha visto como Reinm. *\n",
      "A rua Belo Oiões do Anos de Medicina (1424,\n",
      "O carro abre uma ponte: notação, chocolate é um ano) — F\n",
      "Compreiões para Boston, e começaram por Villenação e que níveis\n"
     ]
    }
   ],
   "source": [
    "# Testes de geração\n",
    "\n",
    "for text in [\n",
    "    \"O cachorro\",\n",
    "    \"A casa\",\n",
    "    \"O gato\",\n",
    "    \"A rua\",\n",
    "    \"O carro\",\n",
    "    \"Comprei\"\n",
    "]:\n",
    "    print(predictNext15Tokens(text, tiktokenProbablilities))"
   ]
  }
 ],
 "metadata": {
  "kernelspec": {
   "display_name": ".venv",
   "language": "python",
   "name": "python3"
  },
  "language_info": {
   "codemirror_mode": {
    "name": "ipython",
    "version": 3
   },
   "file_extension": ".py",
   "mimetype": "text/x-python",
   "name": "python",
   "nbconvert_exporter": "python",
   "pygments_lexer": "ipython3",
   "version": "3.12.7"
  }
 },
 "nbformat": 4,
 "nbformat_minor": 2
}
